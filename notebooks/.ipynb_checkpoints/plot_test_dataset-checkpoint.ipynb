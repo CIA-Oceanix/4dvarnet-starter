{
 "cells": [
  {
   "cell_type": "code",
   "execution_count": null,
   "id": "bfca2141",
   "metadata": {},
   "outputs": [],
   "source": [
    "pip install hvplot"
   ]
  },
  {
   "cell_type": "code",
   "execution_count": null,
   "id": "fed9a5c2",
   "metadata": {},
   "outputs": [],
   "source": [
    "import numpy as np\n",
    "import xarray as xr\n",
    "import hvplot.xarray\n",
    "import holoviews as hv\n",
    "import matplotlib.pyplot as plt\n",
    "from matplotlib.animation import FuncAnimation"
   ]
  },
  {
   "cell_type": "code",
   "execution_count": null,
   "id": "e71f6a49",
   "metadata": {},
   "outputs": [],
   "source": [
    "# Update function for animation\n",
    "def update(frame, ds):\n",
    "    ax.clear()\n",
    "    cax = ax.imshow(out_data.isel(time=frame).values, origin='lower', aspect='auto',\n",
    "                    extent=[float(ds.lon.min()), float(ds.lon.max()), float(ds.lat.min()), float(ds.lat.max())])\n",
    "    ax.set_title(f'Time: {str(out_data.time[frame].values)}')\n",
    "    ax.set_xlabel('Longitude')\n",
    "    ax.set_ylabel('Latitude')\n",
    "    cbar.update_normal(cax)\n",
    "    return cax,"
   ]
  },
  {
   "cell_type": "code",
   "execution_count": null,
   "id": "f78b7b6d",
   "metadata": {},
   "outputs": [],
   "source": [
    "output_path = '/homes/g24meda/lab/4dvarnet-starter/outputs/strong_4dvar_qg/promising/best_lrgmod_01_lrgrad_100_nstep_20_sigma2_kernelsize21_alpha1_1_alpha2_05_avgpool2_dt10min/11-26-41/QG_new_4_nadirs_DC_2020a_ssh/test_data.nc'\n",
    "#'/homes/g24meda/lab/4dvarnet-starter/outputs/2024-05-29/14-59-05/Trained_Bilin_Prior_4_nadirs_DC_2020a_ssh/test_data.nc'\n",
    "#'/homes/g24meda/lab/4dvarnet-starter/outputs/2024-05-30/23-05-33/QG_4_nadirs_DC_2020a_ssh/test_data.nc'"
   ]
  },
  {
   "cell_type": "code",
   "execution_count": null,
   "id": "85ab2e09",
   "metadata": {},
   "outputs": [],
   "source": [
    "test_out = xr.open_dataset(output_path)\n",
    "test_out"
   ]
  },
  {
   "cell_type": "markdown",
   "id": "a1f0d9e0",
   "metadata": {},
   "source": [
    "# 2D plot"
   ]
  },
  {
   "cell_type": "code",
   "execution_count": null,
   "id": "236749c9",
   "metadata": {},
   "outputs": [],
   "source": [
    "fig, axs = plt.subplots(1, 3, figsize=(15, 5))\n",
    "\n",
    "# Plotting each subplot\n",
    "test_out.out.isel(time=10).plot(ax=axs[0])\n",
    "test_out.tgt.isel(time=10).plot(ax=axs[1])\n",
    "test_out.inp.isel(time=10).plot(ax=axs[2])\n",
    "\n",
    "plt.show()"
   ]
  },
  {
   "cell_type": "markdown",
   "id": "6dc557a6",
   "metadata": {},
   "source": [
    "# Animation"
   ]
  },
  {
   "cell_type": "code",
   "execution_count": null,
   "id": "fc4c7a54",
   "metadata": {},
   "outputs": [],
   "source": [
    "%matplotlib agg\n",
    "# Extract the data variables and ensure they are loaded into memory\n",
    "out_data = test_out['out'].load()\n",
    "tgt_data = test_out['tgt'].load()\n",
    "inp_data = test_out['inp'].load()\n",
    "\n",
    "# Determine the global min and max values for the color scale for each variable\n",
    "vmin, vmax = tgt_data.min().values, tgt_data.max().values\n",
    "\n",
    "# Create a figure and axis for the plot\n",
    "fig, axs = plt.subplots(1, 3, figsize=(15, 5))\n",
    "\n",
    "# Initialize the plots with the first time slice\n",
    "cax_out = axs[0].imshow(out_data.isel(time=0).values, origin='lower', aspect='auto',\n",
    "                        extent=[float(test_out.lon.min()), float(test_out.lon.max()), float(test_out.lat.min()), float(test_out.lat.max())],\n",
    "                        cmap='coolwarm', vmin=vmin, vmax=vmax);\n",
    "axs[0].set_title(f'Out Time: {str(out_data.time[0].values)}');\n",
    "axs[0].set_xlabel('Longitude');\n",
    "axs[0].set_ylabel('Latitude');\n",
    "cbar_out = fig.colorbar(cax_out, ax=axs[0], orientation='vertical');\n",
    "cbar_out.set_label('out');\n",
    "\n",
    "cax_tgt = axs[1].imshow(tgt_data.isel(time=0).values, origin='lower', aspect='auto',\n",
    "                        extent=[float(test_out.lon.min()), float(test_out.lon.max()), float(test_out.lat.min()), float(test_out.lat.max())],\n",
    "                        cmap='coolwarm', vmin=vmin, vmax=vmax);\n",
    "axs[1].set_title(f'Tgt Time: {str(tgt_data.time[0].values)}');\n",
    "axs[1].set_xlabel('Longitude');\n",
    "axs[1].set_ylabel('Latitude');\n",
    "cbar_tgt = fig.colorbar(cax_tgt, ax=axs[1], orientation='vertical');\n",
    "cbar_tgt.set_label('tgt');\n",
    "\n",
    "cax_inp = axs[2].imshow(inp_data.isel(time=0).values, origin='lower', aspect='auto',\n",
    "                        extent=[float(test_out.lon.min()), float(test_out.lon.max()), float(test_out.lat.min()), float(test_out.lat.max())],\n",
    "                        cmap='coolwarm', vmin=vmin, vmax=vmax);\n",
    "axs[2].set_title(f'Inp Time: {str(inp_data.time[0].values)}');\n",
    "axs[2].set_xlabel('Longitude');\n",
    "axs[2].set_ylabel('Latitude');\n",
    "cbar_inp = fig.colorbar(cax_inp, ax=axs[2], orientation='vertical');\n",
    "cbar_inp.set_label('inp');\n",
    "\n",
    "\n",
    "# Update function for animation\n",
    "def update(frame):\n",
    "    for ax in axs:\n",
    "        ax.clear()\n",
    "    \n",
    "    cax_out = axs[0].imshow(out_data.isel(time=frame).values, origin='lower', aspect='auto',\n",
    "                            extent=[float(test_out.lon.min()), float(test_out.lon.max()), float(test_out.lat.min()), float(test_out.lat.max())],\n",
    "                            cmap='coolwarm', vmin=vmin, vmax=vmax)\n",
    "    axs[0].set_title(f'Out Time: {str(out_data.time[frame].values)}')\n",
    "    axs[0].set_xlabel('Longitude')\n",
    "    axs[0].set_ylabel('Latitude')\n",
    "    cbar_out.update_normal(cax_out)\n",
    "\n",
    "    cax_tgt = axs[1].imshow(tgt_data.isel(time=frame).values, origin='lower', aspect='auto',\n",
    "                            extent=[float(test_out.lon.min()), float(test_out.lon.max()), float(test_out.lat.min()), float(test_out.lat.max())],\n",
    "                            cmap='coolwarm', vmin=vmin, vmax=vmax)\n",
    "    axs[1].set_title(f'Tgt Time: {str(tgt_data.time[frame].values)}')\n",
    "    axs[1].set_xlabel('Longitude')\n",
    "    axs[1].set_ylabel('Latitude')\n",
    "    cbar_tgt.update_normal(cax_tgt)\n",
    "\n",
    "    cax_inp = axs[2].imshow(inp_data.isel(time=frame).values, origin='lower', aspect='auto',\n",
    "                            extent=[float(test_out.lon.min()), float(test_out.lon.max()), float(test_out.lat.min()), float(test_out.lat.max())],\n",
    "                            cmap='coolwarm', vmin=vmin, vmax=vmax)\n",
    "    axs[2].set_title(f'Inp Time: {str(inp_data.time[frame].values)}')\n",
    "    axs[2].set_xlabel('Longitude')\n",
    "    axs[2].set_ylabel('Latitude')\n",
    "    cbar_inp.update_normal(cax_inp)\n",
    "\n",
    "    return cax_out, cax_tgt, cax_inp\n",
    "\n",
    "# Create the animation\n",
    "ani = FuncAnimation(fig, update, frames=len(out_data.time), interval=200, blit=False)\n",
    "\n",
    "# To display the animation inline in a Jupyter Notebook\n",
    "from IPython.display import HTML\n",
    "HTML(ani.to_jshtml())"
   ]
  }
 ],
 "metadata": {
  "kernelspec": {
   "display_name": "4dvarnet-starter",
   "language": "python",
   "name": "4dvarnet-starter"
  },
  "language_info": {
   "codemirror_mode": {
    "name": "ipython",
    "version": 3
   },
   "file_extension": ".py",
   "mimetype": "text/x-python",
   "name": "python",
   "nbconvert_exporter": "python",
   "pygments_lexer": "ipython3",
   "version": "3.10.14"
  }
 },
 "nbformat": 4,
 "nbformat_minor": 5
}
