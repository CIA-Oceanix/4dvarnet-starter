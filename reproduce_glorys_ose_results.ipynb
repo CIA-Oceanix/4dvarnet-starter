{
 "cells": [
  {
   "cell_type": "markdown",
   "metadata": {},
   "source": [
    "#### CUDA SETTINGS"
   ]
  },
  {
   "cell_type": "code",
   "execution_count": 1,
   "metadata": {},
   "outputs": [],
   "source": [
    "import os \n",
    "os.environ['CUDA_VISIBLE_DEVICES'] = '2'"
   ]
  },
  {
   "cell_type": "markdown",
   "metadata": {},
   "source": [
    "#### IMPORTS"
   ]
  },
  {
   "cell_type": "code",
   "execution_count": 2,
   "metadata": {},
   "outputs": [],
   "source": [
    "from reproduce.reproduce_utils import call_cfg_key, reconstruct_from_config, eval_ose, plot_results\n",
    "from omegaconf import OmegaConf\n",
    "import datetime\n",
    "from tqdm import tqdm"
   ]
  },
  {
   "cell_type": "markdown",
   "metadata": {},
   "source": [
    "#### IMPORTANT FILE PATHS"
   ]
  },
  {
   "cell_type": "code",
   "execution_count": 3,
   "metadata": {},
   "outputs": [],
   "source": [
    "# downloaded cmems data\n",
    "concatenated_6_nadirs_filepath = \"/DATASET/OCB_traces/input_test_6sat_2022_global.nc\"\n",
    "test_1_nadir_filepath = \"/DATASET/OCB_traces/concat/concatenated_ref_2022_reprocessed.nc\"\n",
    "\n",
    "# model hydra config\n",
    "your_config = 'reproduce/config.yaml'\n",
    "# best model ckpt path\n",
    "best_ckpt_path = '/homes/p24hasle/repos/4dvarnet-starter-glorys12/reproduce/val_mse=35.72791-epoch=320.ckpt'\n",
    "# name of the dir under which the reconstructed files will be stored\n",
    "your_rec_dir = 'rec_ose_global_masking_MP_nan'\n",
    "\n",
    "# reconstructed files will be stored in <your_rec_dir>/reproduce/version_0/\n",
    "# careful, it will be version_1, 2, 3... instead of version_0 and so on if you use this notebook multiple times\n",
    "REC_PATHS = '/DATASET/GLORYS12/outputs/'+your_rec_dir+'/reproduce/version_2/test_data_{}.nc'"
   ]
  },
  {
   "cell_type": "markdown",
   "metadata": {},
   "source": [
    "#### CONFIG OVERRIDES"
   ]
  },
  {
   "cell_type": "code",
   "execution_count": 7,
   "metadata": {},
   "outputs": [],
   "source": [
    "# min and max time of REFERENCE DATA\n",
    "min_time = '2022-04-01'\n",
    "max_time = '2022-08-31'"
   ]
  },
  {
   "cell_type": "code",
   "execution_count": 8,
   "metadata": {},
   "outputs": [
    {
     "name": "stdout",
     "output_type": "stream",
     "text": [
      "min/max time: 2022-04-01 / 2022-08-31\n",
      "min/max offseted time: 2022-04-03 / 2022-08-29\n"
     ]
    }
   ],
   "source": [
    "min_time_date = datetime.datetime.strptime(min_time, '%Y-%m-%d')\n",
    "max_time_date = datetime.datetime.strptime(max_time, '%Y-%m-%d')\n",
    "\n",
    "time_offset = datetime.timedelta(days=2)\n",
    "\n",
    "min_time_offset = min_time_date + time_offset\n",
    "max_time_offset = max_time_date - time_offset\n",
    "\n",
    "min_time_offset_str = min_time_offset.strftime('%Y-%m-%d')\n",
    "max_time_offset_str = max_time_offset.strftime('%Y-%m-%d')\n",
    "\n",
    "print('min/max time: {} / {}\\nmin/max offseted time: {} / {}'.format(min_time, max_time, min_time_offset_str, max_time_offset_str))"
   ]
  },
  {
   "cell_type": "markdown",
   "metadata": {},
   "source": [
    "#### LOADING CONFIG"
   ]
  },
  {
   "cell_type": "code",
   "execution_count": 9,
   "metadata": {},
   "outputs": [],
   "source": [
    "config = OmegaConf.load(your_config)\n",
    "#OmegaConf.set_struct(config, True)\n",
    "\n",
    "# override path to cmems input data\n",
    "OmegaConf.update(config, key='paths.ose_6_sats', value=concatenated_6_nadirs_filepath)\n",
    "\n",
    "# override time necessary time values in config\n",
    "OmegaConf.update(config, key='datamodule.domains.train.time._args_', value=[min_time, min_time_offset_str])\n",
    "OmegaConf.update(config, key='datamodule.domains.val.time._args_', value=[min_time, min_time_offset_str])\n",
    "#full_time allocated to the test dataset\n",
    "OmegaConf.update(config, key='datamodule.domains.test.time._args_', value=[min_time, max_time])\n",
    "OmegaConf.update(config, key='datamodule.input_da.test_cut._target_', value='builtins.slice')\n",
    "OmegaConf.update(config, key='datamodule.input_da.test_cut._args_', value=[min_time, max_time])\n",
    "# pre metric fn is applied to a a window cropped on each side by 15 days\n",
    "OmegaConf.update(config, key='model.pre_metric_fn.time._args_', value=[min_time_offset_str, max_time_offset_str])"
   ]
  },
  {
   "cell_type": "markdown",
   "metadata": {},
   "source": [
    "### PREDICT WITH MODEL:"
   ]
  },
  {
   "cell_type": "code",
   "execution_count": 10,
   "metadata": {},
   "outputs": [
    {
     "name": "stderr",
     "output_type": "stream",
     "text": [
      "/DATASET/envs/p24hasle/miniconda/envs/4dvarnet-starter/lib/python3.10/site-packages/lightning_fabric/plugins/environments/slurm.py:204: The `srun` command is available on your system but is not used. HINT: If your intention is to run Lightning on SLURM, prepend your python command with `srun` like so: srun python /DATASET/envs/p24hasle/miniconda/envs/4dvarnet-start ...\n",
      "GPU available: True (cuda), used: True\n",
      "TPU available: False, using: 0 TPU cores\n",
      "IPU available: False, using: 0 IPUs\n",
      "HPU available: False, using: 0 HPUs\n"
     ]
    },
    {
     "name": "stdout",
     "output_type": "stream",
     "text": [
      "ds_s loaded\n"
     ]
    },
    {
     "name": "stderr",
     "output_type": "stream",
     "text": [
      "Seed set to 333\n",
      "You are using a CUDA device ('NVIDIA A100-SXM4-80GB') that has Tensor Cores. To properly utilize them, you should set `torch.set_float32_matmul_precision('medium' | 'high')` which will trade-off precision for performance. For more details, read https://pytorch.org/docs/stable/generated/torch.set_float32_matmul_precision.html#torch.set_float32_matmul_precision\n",
      "Restoring states from the checkpoint path at /homes/p24hasle/repos/4dvarnet-starter-glorys12/reproduce/val_mse=35.72791-epoch=320.ckpt\n",
      "LOCAL_RANK: 0 - CUDA_VISIBLE_DEVICES: [2]\n"
     ]
    },
    {
     "name": "stdout",
     "output_type": "stream",
     "text": [
      "Norm stats (-0.12546253350033618, 0.7086493991810623)\n",
      "dataset patch sizes: {'time': 0, 'lat': 17, 'lon': 36}\n",
      "dataset sizes: Frozen({'variable': 3, 'time': 3, 'lat': 680, 'lon': 1440})\n",
      "dataset length: 0\n",
      "----------------------------------------\n",
      "dataset patch sizes: {'time': 0, 'lat': 17, 'lon': 36}\n",
      "dataset sizes: Frozen({'variable': 3, 'time': 3, 'lat': 680, 'lon': 1440})\n",
      "dataset length: 0\n",
      "----------------------------------------\n",
      "dataset patch sizes: {'time': 125, 'lat': 17, 'lon': 36}\n",
      "dataset sizes: Frozen({'variable': 3, 'time': 153, 'lat': 680, 'lon': 1440})\n",
      "dataset length: 76500\n",
      "----------------------------------------\n"
     ]
    },
    {
     "name": "stderr",
     "output_type": "stream",
     "text": [
      "Loaded model weights from the checkpoint at /homes/p24hasle/repos/4dvarnet-starter-glorys12/reproduce/val_mse=35.72791-epoch=320.ckpt\n"
     ]
    },
    {
     "name": "stdout",
     "output_type": "stream",
     "text": [
      "Testing DataLoader 0: 100%|██████████| 1196/1196 [03:31<00:00,  5.65it/s]"
     ]
    },
    {
     "name": "stderr",
     "output_type": "stream",
     "text": []
    }
   ],
   "source": [
    "reconstruct_from_config(config, your_rec_dir, best_ckpt_path)"
   ]
  },
  {
   "cell_type": "markdown",
   "metadata": {},
   "source": [
    "### OSE RESULTS:"
   ]
  },
  {
   "cell_type": "code",
   "execution_count": 12,
   "metadata": {},
   "outputs": [
    {
     "name": "stderr",
     "output_type": "stream",
     "text": [
      "  0%|          | 0/2 [00:00<?, ?it/s]"
     ]
    },
    {
     "name": "stdout",
     "output_type": "stream",
     "text": [
      "time alongtrack len after masking: (15058695,)\n"
     ]
    },
    {
     "name": "stderr",
     "output_type": "stream",
     "text": [
      " 50%|█████     | 1/2 [08:37<08:37, 517.17s/it]"
     ]
    },
    {
     "name": "stdout",
     "output_type": "stream",
     "text": [
      "leadtime 14 - RMSE: 0.8793 | PSD: 365.2784\n",
      "time alongtrack len after masking: (15108478,)\n"
     ]
    },
    {
     "name": "stderr",
     "output_type": "stream",
     "text": [
      "100%|██████████| 2/2 [20:16<00:00, 608.34s/it]"
     ]
    },
    {
     "name": "stdout",
     "output_type": "stream",
     "text": [
      "leadtime 15 - RMSE: 0.9234 | PSD: 283.3351\n"
     ]
    },
    {
     "name": "stderr",
     "output_type": "stream",
     "text": [
      "\n"
     ]
    }
   ],
   "source": [
    "lead_times = range(14,16)\n",
    "\n",
    "RMSE_array = []\n",
    "\n",
    "for lead_time in tqdm(lead_times):\n",
    "    a,b = eval_ose(\n",
    "        path_alongtrack = test_1_nadir_filepath,\n",
    "        path_rec = REC_PATHS.format(lead_time),\n",
    "        time_min = min_time_offset_str,\n",
    "        time_max= max_time_offset_str,\n",
    "        lon_min=-179,\n",
    "        lon_max=179,\n",
    "        lat_min=-79,\n",
    "        lat_max=89,\n",
    "        #lon_min=-65,\n",
    "        #lon_max=-55,\n",
    "        #lat_min=32,\n",
    "        #lat_max=42\n",
    "    )\n",
    "\n",
    "    print('leadtime {} - RMSE: {:.4f} | PSD: {:.4f}'.format(lead_time, a, b))\n",
    "    RMSE_array.append(a)"
   ]
  },
  {
   "cell_type": "code",
   "execution_count": 8,
   "metadata": {},
   "outputs": [],
   "source": [
    "from IPython.display import display, Markdown\n",
    "\n",
    "def show_metrics(metrics_dict, model_name='METRICS'):\n",
    "    to_show = '## {}\\n\\n'.format(model_name)\n",
    "\n",
    "    for domain_name, domain_metrics in metrics_dict.items():\n",
    "        n = len(next(iter(domain_metrics.values())))\n",
    "        to_show += '<details>\\n<summary>{}</summary>'.format(domain_name.upper())\n",
    "        to_show += '\\n\\n\\n|LEADTIME|' + ''.join('{}|'.format(leadtime) for leadtime in range(n))\n",
    "        to_show += '\\n|---|' + ''.join('---|'for i in range(n))\n",
    "        for metric_name, metric_values in domain_metrics.items():\n",
    "            to_show += '\\n|{}|'.format(metric_name) + ''.join('{:.3f}|'.format(rmse_score) for rmse_score in metric_values)\n",
    "        to_show += '\\n\\n\\n</details>'\n",
    "\n",
    "    display(Markdown(to_show))"
   ]
  },
  {
   "cell_type": "code",
   "execution_count": 9,
   "metadata": {},
   "outputs": [
    {
     "data": {
      "text/markdown": [
       "## METRICS\n",
       "\n",
       "<details>\n",
       "<summary>GLOBAL</summary>\n",
       "\n",
       "\n",
       "|LEADTIME|0|1|2|3|4|5|6|\n",
       "|---|---|---|---|---|---|---|---|\n",
       "|nRMSE|0.915|0.908|0.908|0.911|0.901|0.898|0.917|\n",
       "\n",
       "\n",
       "</details>"
      ],
      "text/plain": [
       "<IPython.core.display.Markdown object>"
      ]
     },
     "metadata": {},
     "output_type": "display_data"
    }
   ],
   "source": [
    "metrics = {'Global': {'nRMSE': []}}\n",
    "for rmse in RMSE_array:\n",
    "    metrics['Global']['nRMSE'].append(rmse)\n",
    "\n",
    "show_metrics(metrics)"
   ]
  },
  {
   "cell_type": "markdown",
   "metadata": {},
   "source": [
    "#### PLOT RESULTS"
   ]
  },
  {
   "cell_type": "code",
   "execution_count": 10,
   "metadata": {},
   "outputs": [
    {
     "data": {
      "image/png": "[encoded data removed]",
      "text/plain": [
       "<Figure size 640x480 with 1 Axes>"
      ]
     },
     "metadata": {},
     "output_type": "display_data"
    }
   ],
   "source": [
    "# save_name: named of saved graph if not None\n",
    "plot_results(RMSE_array,\n",
    "             save_name=None,\n",
    "             plot_baked=False,\n",
    "             vmin=0.,\n",
    "             vmax=1.,\n",
    "             name='Globe MASK + MovPatch')"
   ]
  }
 ],
 "metadata": {
  "kernelspec": {
   "display_name": "4dvarnet-starter",
   "language": "python",
   "name": "python3"
  },
  "language_info": {
   "codemirror_mode": {
    "name": "ipython",
    "version": 3
   },
   "file_extension": ".py",
   "mimetype": "text/x-python",
   "name": "python",
   "nbconvert_exporter": "python",
   "pygments_lexer": "ipython3",
   "version": "3.10.13"
  }
 },
 "nbformat": 4,
 "nbformat_minor": 2
}
