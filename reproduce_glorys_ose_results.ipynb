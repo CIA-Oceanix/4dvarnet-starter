{
 "cells": [
  {
   "cell_type": "markdown",
   "metadata": {},
   "source": [
    "#### CUDA SETTINGS"
   ]
  },
  {
   "cell_type": "code",
   "execution_count": 15,
   "metadata": {},
   "outputs": [],
   "source": [
    "import os \n",
    "os.environ['CUDA_VISIBLE_DEVICES'] = '0'"
   ]
  },
  {
   "cell_type": "markdown",
   "metadata": {},
   "source": [
    "#### IMPORTS"
   ]
  },
  {
   "cell_type": "code",
   "execution_count": 16,
   "metadata": {},
   "outputs": [],
   "source": [
    "from reproduce.reproduce_utils import call_cfg_key, reconstruct_from_config, eval_ose, plot_results\n",
    "from omegaconf import OmegaConf\n",
    "import datetime\n",
    "from tqdm import tqdm"
   ]
  },
  {
   "cell_type": "markdown",
   "metadata": {},
   "source": [
    "#### IMPORTANT FILE PATHS"
   ]
  },
  {
   "cell_type": "code",
   "execution_count": 3,
   "metadata": {},
   "outputs": [],
   "source": [
    "# downloaded cmems data\n",
    "concatenated_6_nadirs_filepath = \"/DATASET/OCB_traces/input_test_6sat_2022_global.nc\"\n",
    "test_1_nadir_filepath = \"/DATASET/OCB_traces/concat/concatenated_ref_2022_reprocessed.nc\"\n",
    "\n",
    "# model hydra config\n",
    "your_config = 'reproduce/config.yaml'\n",
    "# best model ckpt path\n",
    "best_ckpt_path = '/homes/p24hasle/repos/4dvarnet-starter-glorys12/outputs/2024-09-01/00-26-24/base_forecast_global/checkpoints/val_mse=59.39316-epoch=265.ckpt'\n",
    "# name of the dir under which the reconstructed files will be stored\n",
    "your_rec_dir = 'rec_ose_global_masking_MP'\n",
    "\n",
    "# reconstructed files will be stored in <your_rec_dir>/reproduce/version_0/\n",
    "# careful, it will be version_1, 2, 3... instead of version_0 and so on if you use this notebook multiple times\n",
    "REC_PATHS = '/DATASET/GLORYS12/outputs/'+your_rec_dir+'/reproduce/version_0/test_data_{}.nc'"
   ]
  },
  {
   "cell_type": "markdown",
   "metadata": {},
   "source": [
    "#### CONFIG OVERRIDES"
   ]
  },
  {
   "cell_type": "code",
   "execution_count": 4,
   "metadata": {},
   "outputs": [],
   "source": [
    "# min and max time of REFERENCE DATA\n",
    "min_time = '2022-03-01'\n",
    "max_time = '2022-04-30'"
   ]
  },
  {
   "cell_type": "code",
   "execution_count": 5,
   "metadata": {},
   "outputs": [
    {
     "name": "stdout",
     "output_type": "stream",
     "text": [
      "min/max time: 2022-03-01 / 2022-04-30\n",
      "min/max offseted time: 2022-03-02 / 2022-04-29\n"
     ]
    }
   ],
   "source": [
    "min_time_date = datetime.datetime.strptime(min_time, '%Y-%m-%d')\n",
    "max_time_date = datetime.datetime.strptime(max_time, '%Y-%m-%d')\n",
    "\n",
    "time_offset = datetime.timedelta(days=1)\n",
    "\n",
    "min_time_offset = min_time_date + time_offset\n",
    "max_time_offset = max_time_date - time_offset\n",
    "\n",
    "min_time_offset_str = min_time_offset.strftime('%Y-%m-%d')\n",
    "max_time_offset_str = max_time_offset.strftime('%Y-%m-%d')\n",
    "\n",
    "print('min/max time: {} / {}\\nmin/max offseted time: {} / {}'.format(min_time, max_time, min_time_offset_str, max_time_offset_str))"
   ]
  },
  {
   "cell_type": "markdown",
   "metadata": {},
   "source": [
    "#### LOADING CONFIG"
   ]
  },
  {
   "cell_type": "code",
   "execution_count": 6,
   "metadata": {},
   "outputs": [],
   "source": [
    "config = OmegaConf.load(your_config)\n",
    "#OmegaConf.set_struct(config, True)\n",
    "\n",
    "# override path to cmems input data\n",
    "OmegaConf.update(config, key='paths.ose_6_sats', value=concatenated_6_nadirs_filepath)\n",
    "\n",
    "# override time necessary time values in config\n",
    "OmegaConf.update(config, key='datamodule.domains.train.time._args_', value=[min_time, min_time_offset_str])\n",
    "OmegaConf.update(config, key='datamodule.domains.val.time._args_', value=[min_time, min_time_offset_str])\n",
    "#full_time allocated to the test dataset\n",
    "OmegaConf.update(config, key='datamodule.domains.test.time._args_', value=[min_time, max_time])\n",
    "OmegaConf.update(config, key='datamodule.input_da.test_cut._target_', value='builtins.slice')\n",
    "OmegaConf.update(config, key='datamodule.input_da.test_cut._args_', value=[min_time, max_time])\n",
    "# pre metric fn is applied to a a window cropped on each side by 15 days\n",
    "OmegaConf.update(config, key='model.pre_metric_fn.time._args_', value=[min_time_offset_str, max_time_offset_str])"
   ]
  },
  {
   "cell_type": "markdown",
   "metadata": {},
   "source": [
    "### PREDICT WITH MODEL:"
   ]
  },
  {
   "cell_type": "code",
   "execution_count": null,
   "metadata": {},
   "outputs": [],
   "source": [
    "reconstruct_from_config(config, your_rec_dir, best_ckpt_path)"
   ]
  },
  {
   "cell_type": "markdown",
   "metadata": {},
   "source": [
    "### OSE RESULTS:"
   ]
  },
  {
   "cell_type": "code",
   "execution_count": 6,
   "metadata": {},
   "outputs": [
    {
     "name": "stderr",
     "output_type": "stream",
     "text": [
      " 14%|█▍        | 1/7 [00:08<00:50,  8.34s/it]"
     ]
    },
    {
     "name": "stdout",
     "output_type": "stream",
     "text": [
      "478.9553286159635\n",
      "leadtime 13 - RMSE: 0.8842 | PSD: 478.9553\n"
     ]
    },
    {
     "name": "stderr",
     "output_type": "stream",
     "text": [
      " 29%|██▊       | 2/7 [00:15<00:37,  7.53s/it]"
     ]
    },
    {
     "name": "stdout",
     "output_type": "stream",
     "text": [
      "322.2883188942997\n",
      "leadtime 14 - RMSE: 0.8999 | PSD: 322.2883\n"
     ]
    },
    {
     "name": "stderr",
     "output_type": "stream",
     "text": [
      " 43%|████▎     | 3/7 [00:22<00:28,  7.20s/it]"
     ]
    },
    {
     "name": "stdout",
     "output_type": "stream",
     "text": [
      "307.43723769869143\n",
      "leadtime 15 - RMSE: 0.8702 | PSD: 307.4372\n"
     ]
    },
    {
     "name": "stderr",
     "output_type": "stream",
     "text": [
      " 57%|█████▋    | 4/7 [00:28<00:21,  7.07s/it]"
     ]
    },
    {
     "name": "stdout",
     "output_type": "stream",
     "text": [
      "452.95187208482866\n",
      "leadtime 16 - RMSE: 0.8613 | PSD: 452.9519\n"
     ]
    },
    {
     "name": "stderr",
     "output_type": "stream",
     "text": [
      " 71%|███████▏  | 5/7 [00:35<00:13,  7.00s/it]"
     ]
    },
    {
     "name": "stdout",
     "output_type": "stream",
     "text": [
      "452.89626052769415\n",
      "leadtime 17 - RMSE: 0.8584 | PSD: 452.8963\n"
     ]
    },
    {
     "name": "stderr",
     "output_type": "stream",
     "text": [
      " 86%|████████▌ | 6/7 [00:42<00:06,  6.91s/it]"
     ]
    },
    {
     "name": "stdout",
     "output_type": "stream",
     "text": [
      "457.8660541688754\n",
      "leadtime 18 - RMSE: 0.8593 | PSD: 457.8661\n"
     ]
    },
    {
     "name": "stderr",
     "output_type": "stream",
     "text": [
      "100%|██████████| 7/7 [00:49<00:00,  7.05s/it]"
     ]
    },
    {
     "name": "stdout",
     "output_type": "stream",
     "text": [
      "401.33369495210644\n",
      "leadtime 19 - RMSE: 0.8660 | PSD: 401.3337\n"
     ]
    },
    {
     "name": "stderr",
     "output_type": "stream",
     "text": [
      "\n"
     ]
    }
   ],
   "source": [
    "lead_times = range(13,20)\n",
    "\n",
    "RMSE_array = []\n",
    "\n",
    "for lead_time in tqdm(lead_times):\n",
    "    a,b = eval_ose(\n",
    "        path_alongtrack = test_1_nadir_filepath,\n",
    "        path_rec = REC_PATHS.format(lead_time),\n",
    "        time_min = min_time_offset_str,\n",
    "        time_max= max_time_offset_str,\n",
    "        lon_min=-179,\n",
    "        lon_max=179,\n",
    "        lat_min=-79,\n",
    "        lat_max=89,\n",
    "        #lon_min=-65,\n",
    "        #lon_max=-55,\n",
    "        #lat_min=32,\n",
    "        #lat_max=42\n",
    "    )\n",
    "\n",
    "    print('leadtime {} - RMSE: {:.4f} | PSD: {:.4f}'.format(lead_time, a, b))\n",
    "    RMSE_array.append(a)"
   ]
  },
  {
   "cell_type": "code",
   "execution_count": 11,
   "metadata": {},
   "outputs": [],
   "source": [
    "from IPython.display import display, Markdown\n",
    "\n",
    "def show_metrics(metrics_dict, model_name='METRICS'):\n",
    "    to_show = '## {}\\n\\n'.format(model_name)\n",
    "\n",
    "    for domain_name, domain_metrics in metrics_dict.items():\n",
    "        n = len(next(iter(domain_metrics.values())))\n",
    "        to_show += '<details>\\n<summary>{}</summary>'.format(domain_name.upper())\n",
    "        to_show += '\\n\\n\\n|LEADTIME|' + ''.join('{}|'.format(leadtime) for leadtime in range(n))\n",
    "        to_show += '\\n|---|' + ''.join('---|'for i in range(n))\n",
    "        for metric_name, metric_values in domain_metrics.items():\n",
    "            to_show += '\\n|{}|'.format(metric_name) + ''.join('{:.3f}|'.format(rmse_score) for rmse_score in metric_values)\n",
    "        to_show += '\\n\\n\\n</details>'\n",
    "\n",
    "    display(Markdown(to_show))"
   ]
  },
  {
   "cell_type": "code",
   "execution_count": 12,
   "metadata": {},
   "outputs": [
    {
     "data": {
      "text/markdown": [
       "## METRICS\n",
       "\n",
       "<details>\n",
       "<summary>GLOBAL</summary>\n",
       "\n",
       "\n",
       "|LEADTIME|0|1|2|3|4|5|6|\n",
       "|---|---|---|---|---|---|---|---|\n",
       "|nRMSE|0.884|0.900|0.870|0.861|0.858|0.859|0.866|\n",
       "\n",
       "\n",
       "</details>"
      ],
      "text/plain": [
       "<IPython.core.display.Markdown object>"
      ]
     },
     "metadata": {},
     "output_type": "display_data"
    }
   ],
   "source": [
    "metrics = {'Global': {'nRMSE': []}}\n",
    "for rmse in RMSE_array:\n",
    "    metrics['Global']['nRMSE'].append(rmse)\n",
    "\n",
    "show_metrics(metrics)"
   ]
  },
  {
   "cell_type": "markdown",
   "metadata": {},
   "source": [
    "#### PLOT RESULTS"
   ]
  },
  {
   "cell_type": "code",
   "execution_count": 14,
   "metadata": {},
   "outputs": [
    {
     "data": {
      "image/png": "[encoded data removed]",
      "text/plain": [
       "<Figure size 640x480 with 1 Axes>"
      ]
     },
     "metadata": {},
     "output_type": "display_data"
    }
   ],
   "source": [
    "# save_name: named of saved graph if not None\n",
    "plot_results(RMSE_array, save_name=None, plot_baked=False, vmin=0., vmax=1., name='Globe MASK + MovPatch')"
   ]
  }
 ],
 "metadata": {
  "kernelspec": {
   "display_name": "4dvarnet-starter",
   "language": "python",
   "name": "python3"
  },
  "language_info": {
   "codemirror_mode": {
    "name": "ipython",
    "version": 3
   },
   "file_extension": ".py",
   "mimetype": "text/x-python",
   "name": "python",
   "nbconvert_exporter": "python",
   "pygments_lexer": "ipython3",
   "version": "3.10.13"
  }
 },
 "nbformat": 4,
 "nbformat_minor": 2
}
